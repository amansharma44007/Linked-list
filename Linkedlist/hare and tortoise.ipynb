{
 "cells": [
  {
   "cell_type": "markdown",
   "metadata": {},
   "source": [
    "# Single linked list Checker"
   ]
  },
  {
   "cell_type": "code",
   "execution_count": 6,
   "metadata": {},
   "outputs": [],
   "source": [
    "class Single(object):\n",
    "    def __init__(self,value):\n",
    "        self.value=value\n",
    "        self.nextNode=None\n",
    "a=Single(1)\n",
    "b=Single(2)\n",
    "c=Single(3)\n",
    "d=Single(4)\n",
    "e=Single(5)\n",
    "\n",
    "a.nextNode=b\n",
    "b.nextNode=c\n",
    "c.nextNode=d\n",
    "d.nextNode=e\n",
    "\n",
    "\n",
    "\n",
    "aa=Single(1)\n",
    "bb=Single(2)\n",
    "cc=Single(3)\n",
    "dd=Single(4)\n",
    "ee=Single(5)\n",
    "\n",
    "\n",
    "aa.nextNode=bb\n",
    "bb.nextNode=cc\n",
    "cc.nextNode=dd\n",
    "dd.nextNode=ee\n",
    "ee.nextNode=cc"
   ]
  },
  {
   "cell_type": "code",
   "execution_count": 7,
   "metadata": {},
   "outputs": [
    {
     "data": {
      "text/plain": [
       "False"
      ]
     },
     "execution_count": 7,
     "metadata": {},
     "output_type": "execute_result"
    }
   ],
   "source": [
    "def ht(node):\n",
    "    fast,slow=node,node\n",
    "    while fast and fast.nextNode:\n",
    "        fast=fast.nextNode\n",
    "        if fast==slow:\n",
    "            return True\n",
    "        fast=fast.nextNode\n",
    "        slow=slow.nextNode\n",
    "    return False\n",
    "ht(a)"
   ]
  },
  {
   "cell_type": "code",
   "execution_count": 8,
   "metadata": {},
   "outputs": [
    {
     "data": {
      "text/plain": [
       "True"
      ]
     },
     "execution_count": 8,
     "metadata": {},
     "output_type": "execute_result"
    }
   ],
   "source": [
    "ht(aa)"
   ]
  }
 ],
 "metadata": {
  "kernelspec": {
   "display_name": "Python 3",
   "language": "python",
   "name": "python3"
  },
  "language_info": {
   "codemirror_mode": {
    "name": "ipython",
    "version": 3
   },
   "file_extension": ".py",
   "mimetype": "text/x-python",
   "name": "python",
   "nbconvert_exporter": "python",
   "pygments_lexer": "ipython3",
   "version": "3.7.3"
  }
 },
 "nbformat": 4,
 "nbformat_minor": 2
}
