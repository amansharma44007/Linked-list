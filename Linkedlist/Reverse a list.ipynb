{
 "cells": [
  {
   "cell_type": "code",
   "execution_count": 1,
   "metadata": {},
   "outputs": [],
   "source": [
    "class Single(object):\n",
    "    def __init__(self,value):\n",
    "        self.value=value\n",
    "        self.nextNode=None\n",
    "a=Single(1)\n",
    "b=Single(2)\n",
    "c=Single(3)\n",
    "d=Single(4)\n",
    "a.nextNode=b\n",
    "b.nextNode=c\n",
    "c.nextNode=d"
   ]
  },
  {
   "cell_type": "code",
   "execution_count": 5,
   "metadata": {},
   "outputs": [],
   "source": [
    "def reverse(node):\n",
    "    current=node\n",
    "    nxt=None\n",
    "    prev=None\n",
    "    while current:\n",
    "        nxt=current.nextNode\n",
    "        current.nextNode=prev\n",
    "        prev=current\n",
    "        current=nxt"
   ]
  },
  {
   "cell_type": "code",
   "execution_count": 6,
   "metadata": {},
   "outputs": [],
   "source": [
    "reverse(a)"
   ]
  },
  {
   "cell_type": "code",
   "execution_count": 7,
   "metadata": {},
   "outputs": [
    {
     "data": {
      "text/plain": [
       "2"
      ]
     },
     "execution_count": 7,
     "metadata": {},
     "output_type": "execute_result"
    }
   ],
   "source": [
    "c.nextNode.value"
   ]
  },
  {
   "cell_type": "markdown",
   "metadata": {},
   "source": [
    "# WellDone"
   ]
  }
 ],
 "metadata": {
  "kernelspec": {
   "display_name": "Python 3",
   "language": "python",
   "name": "python3"
  },
  "language_info": {
   "codemirror_mode": {
    "name": "ipython",
    "version": 3
   },
   "file_extension": ".py",
   "mimetype": "text/x-python",
   "name": "python",
   "nbconvert_exporter": "python",
   "pygments_lexer": "ipython3",
   "version": "3.7.3"
  }
 },
 "nbformat": 4,
 "nbformat_minor": 2
}
